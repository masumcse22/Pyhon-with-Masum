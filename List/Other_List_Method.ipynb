{
 "cells": [
  {
   "cell_type": "markdown",
   "metadata": {},
   "source": [
    "#### Inserting an Element at a Specific List Index"
   ]
  },
  {
   "cell_type": "code",
   "execution_count": 1,
   "metadata": {},
   "outputs": [
    {
     "data": {
      "text/plain": [
       "['red', 'orange', 'Yellow', 'green']"
      ]
     },
     "execution_count": 1,
     "metadata": {},
     "output_type": "execute_result"
    }
   ],
   "source": [
    "color_names = [\"orange\", \"Yellow\", \"green\"]\n",
    "\n",
    "color_names.insert(0,\"red\")\n",
    "\n",
    "color_names"
   ]
  },
  {
   "cell_type": "markdown",
   "metadata": {},
   "source": [
    "#### Adding an Element to the End of a List\n",
    "You can add a new item to the end of a list with method append:"
   ]
  },
  {
   "cell_type": "code",
   "execution_count": 2,
   "metadata": {},
   "outputs": [
    {
     "data": {
      "text/plain": [
       "['red', 'orange', 'Yellow', 'green', 'blue']"
      ]
     },
     "execution_count": 2,
     "metadata": {},
     "output_type": "execute_result"
    }
   ],
   "source": [
    "color_names.append(\"blue\")\n",
    "color_names"
   ]
  },
  {
   "cell_type": "markdown",
   "metadata": {},
   "source": [
    "#### Adding All the Elements of a Sequence to the End of a List\n",
    "Use list method extend to add all the elements of another sequence to the end of a list:"
   ]
  },
  {
   "cell_type": "code",
   "execution_count": 3,
   "metadata": {},
   "outputs": [
    {
     "data": {
      "text/plain": [
       "['red', 'orange', 'Yellow', 'green', 'blue', 'indigo', 'violet']"
      ]
     },
     "execution_count": 3,
     "metadata": {},
     "output_type": "execute_result"
    }
   ],
   "source": [
    "color_names.extend([\"indigo\",\"violet\"])\n",
    "\n",
    "color_names"
   ]
  },
  {
   "cell_type": "markdown",
   "metadata": {},
   "source": [
    "#### Emptying a List\n",
    "To delete all the elements in a list, call method clear:\n"
   ]
  },
  {
   "cell_type": "code",
   "execution_count": 4,
   "metadata": {},
   "outputs": [
    {
     "data": {
      "text/plain": [
       "[]"
      ]
     },
     "execution_count": 4,
     "metadata": {},
     "output_type": "execute_result"
    }
   ],
   "source": [
    "color_names.clear()\n",
    "\n",
    "color_names"
   ]
  },
  {
   "cell_type": "markdown",
   "metadata": {},
   "source": [
    "#### Counting the Number of Occurrences of an Item\n",
    "List method count searches for its argument and returns the number of times it is found:\n"
   ]
  },
  {
   "cell_type": "code",
   "execution_count": 5,
   "metadata": {},
   "outputs": [
    {
     "name": "stdout",
     "output_type": "stream",
     "text": [
      "1 appears 1 time in responses\n",
      "2 appears 2 time in responses\n",
      "3 appears 3 time in responses\n",
      "4 appears 3 time in responses\n",
      "5 appears 8 time in responses\n",
      "6 appears 5 time in responses\n",
      "7 appears 3 time in responses\n",
      "8 appears 2 time in responses\n"
     ]
    }
   ],
   "source": [
    "responses = [1,2,3,4,5,4,3,2,3,5,6,7,6,7,8,5,6,\n",
    "             5,6,5,4,5,5,5,6,7,8,]\n",
    "\n",
    "for i in range(1,9):\n",
    "    print(f'{i} appears {responses.count(i)} time in responses')             \n"
   ]
  }
 ],
 "metadata": {
  "interpreter": {
   "hash": "aee8b7b246df8f9039afb4144a1f6fd8d2ca17a180786b69acc140d282b71a49"
  },
  "kernelspec": {
   "display_name": "Python 3.10.7 64-bit",
   "language": "python",
   "name": "python3"
  },
  "language_info": {
   "codemirror_mode": {
    "name": "ipython",
    "version": 3
   },
   "file_extension": ".py",
   "mimetype": "text/x-python",
   "name": "python",
   "nbconvert_exporter": "python",
   "pygments_lexer": "ipython3",
   "version": "3.10.7"
  },
  "orig_nbformat": 4
 },
 "nbformat": 4,
 "nbformat_minor": 2
}
