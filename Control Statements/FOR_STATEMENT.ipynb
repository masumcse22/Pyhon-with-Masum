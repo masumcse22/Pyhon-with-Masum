{
 "cells": [
  {
   "cell_type": "markdown",
   "metadata": {},
   "source": [
    "The for statement allows you to repeat an action or several actions for each item in a \n",
    "sequence of items. For example, a string is a sequence of individual characters.\n",
    " Let’s display 'Programming' with its characters separated by two spaces:"
   ]
  },
  {
   "cell_type": "code",
   "execution_count": 1,
   "metadata": {},
   "outputs": [
    {
     "name": "stdout",
     "output_type": "stream",
     "text": [
      "P  r  i  g  r  a  m  m  i  n  g  "
     ]
    }
   ],
   "source": [
    "for character in 'Prigramming' :\n",
    "     print(character,end='  ')"
   ]
  },
  {
   "cell_type": "markdown",
   "metadata": {},
   "source": [
    "The for statement executes as follows:\n",
    "\n",
    "Upon entering the statement, it assigns the 'P' in 'Programming' to the target\n",
    "variable between keywords for and in—in this case, character.\n",
    "\n",
    "Next, the statement in the suite executes, displaying character’s value followed by\n",
    "two spaces—we’ll say more about this momentarily.\n",
    "\n",
    "After executing the suite, Python assigns to character the next item in the\n",
    "sequence (that is, the 'r' in 'Programming'), then executes the suite again. \n",
    "\n",
    "This continues while there are more items in the sequence to process. In this case,\n",
    "the statement terminates after displaying the letter 'g', followed by two spaces.\n",
    "\n",
    "Using the target variable in the suite, as we did here to display its value, is common but\n",
    "not required."
   ]
  }
 ],
 "metadata": {
  "interpreter": {
   "hash": "b0fa6594d8f4cbf19f97940f81e996739fb7646882a419484c72d19e05852a7e"
  },
  "kernelspec": {
   "display_name": "Python 3.10.6 64-bit",
   "language": "python",
   "name": "python3"
  },
  "language_info": {
   "codemirror_mode": {
    "name": "ipython",
    "version": 3
   },
   "file_extension": ".py",
   "mimetype": "text/x-python",
   "name": "python",
   "nbconvert_exporter": "python",
   "pygments_lexer": "ipython3",
   "version": "3.10.6"
  },
  "orig_nbformat": 4
 },
 "nbformat": 4,
 "nbformat_minor": 2
}
