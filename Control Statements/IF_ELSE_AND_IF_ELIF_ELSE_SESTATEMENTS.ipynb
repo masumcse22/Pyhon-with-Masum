{
 "cells": [
  {
   "cell_type": "markdown",
   "metadata": {},
   "source": [
    "The if else statement executes different suites, based on whether a condition is True\n",
    "or False:"
   ]
  },
  {
   "cell_type": "code",
   "execution_count": 2,
   "metadata": {},
   "outputs": [
    {
     "name": "stdout",
     "output_type": "stream",
     "text": [
      "Paseed\n"
     ]
    }
   ],
   "source": [
    "grade = int(input('Enter Your Mark : '))\n",
    "\n",
    "if grade >= 60:\n",
    "   print('Paseed')\n",
    "else:\n",
    "   print('Failed')   "
   ]
  },
  {
   "cell_type": "markdown",
   "metadata": {},
   "source": [
    "Conditional Expressions"
   ]
  },
  {
   "cell_type": "code",
   "execution_count": 4,
   "metadata": {},
   "outputs": [
    {
     "data": {
      "text/plain": [
       "'Passed'"
      ]
     },
     "execution_count": 4,
     "metadata": {},
     "output_type": "execute_result"
    }
   ],
   "source": [
    "mark = int(input(\"Enter you'r mark : \"))\n",
    "\n",
    "result = ('Passed' if mark >=60 else 'Failed')\n",
    "\n",
    "result"
   ]
  },
  {
   "cell_type": "markdown",
   "metadata": {},
   "source": [
    "Multiple Statements in a Suite : \n"
   ]
  },
  {
   "cell_type": "code",
   "execution_count": 5,
   "metadata": {},
   "outputs": [
    {
     "name": "stdout",
     "output_type": "stream",
     "text": [
      "Failed\n",
      "You Must take this course again\n"
     ]
    }
   ],
   "source": [
    "grade = 49\n",
    "\n",
    "if grade >= 60:\n",
    "    print('passed')\n",
    "else:\n",
    "    print('Failed')\n",
    "    print('You Must take this course again')   \n"
   ]
  },
  {
   "cell_type": "markdown",
   "metadata": {},
   "source": [
    "if... elif... else Statement :\n",
    "  You can test for many cases using the if... elif... else statement"
   ]
  },
  {
   "cell_type": "code",
   "execution_count": 8,
   "metadata": {},
   "outputs": [
    {
     "name": "stdout",
     "output_type": "stream",
     "text": [
      "A+\n"
     ]
    }
   ],
   "source": [
    "grade = int(input('Enter you Mark: '))\n",
    "\n",
    "if grade >=90:\n",
    "    print('A+')\n",
    "elif grade >=80:\n",
    "    print('A')    \n",
    "elif grade >=70:\n",
    "    print('B')  \n",
    "elif grade >=60:\n",
    "    print('C')\n",
    "elif grade >=50:\n",
    "    print('D')\n",
    "else:\n",
    "    print('Failed')\n",
    "    print('You Must take this Course again')        \n"
   ]
  }
 ],
 "metadata": {
  "interpreter": {
   "hash": "aee8b7b246df8f9039afb4144a1f6fd8d2ca17a180786b69acc140d282b71a49"
  },
  "kernelspec": {
   "display_name": "Python 3.10.7 64-bit",
   "language": "python",
   "name": "python3"
  },
  "language_info": {
   "codemirror_mode": {
    "name": "ipython",
    "version": 3
   },
   "file_extension": ".py",
   "mimetype": "text/x-python",
   "name": "python",
   "nbconvert_exporter": "python",
   "pygments_lexer": "ipython3",
   "version": "3.10.7"
  },
  "orig_nbformat": 4
 },
 "nbformat": 4,
 "nbformat_minor": 2
}
