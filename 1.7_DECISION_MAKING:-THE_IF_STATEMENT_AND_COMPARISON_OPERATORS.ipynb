{
 "cells": [
  {
   "cell_type": "code",
   "execution_count": 1,
   "metadata": {},
   "outputs": [
    {
     "data": {
      "text/plain": [
       "True"
      ]
     },
     "execution_count": 1,
     "metadata": {},
     "output_type": "execute_result"
    }
   ],
   "source": [
    "7 > 4"
   ]
  },
  {
   "cell_type": "code",
   "execution_count": 2,
   "metadata": {},
   "outputs": [
    {
     "data": {
      "text/plain": [
       "False"
      ]
     },
     "execution_count": 2,
     "metadata": {},
     "output_type": "execute_result"
    }
   ],
   "source": [
    "7 < 4"
   ]
  },
  {
   "cell_type": "code",
   "execution_count": 3,
   "metadata": {},
   "outputs": [
    {
     "data": {
      "text/plain": [
       "False"
      ]
     },
     "execution_count": 3,
     "metadata": {},
     "output_type": "execute_result"
    }
   ],
   "source": [
    "# 7 < = 4 This is wrong expression \n",
    "\n",
    "7 <= 4"
   ]
  },
  {
   "cell_type": "markdown",
   "metadata": {},
   "source": [
    "IF statement"
   ]
  },
  {
   "cell_type": "code",
   "execution_count": 6,
   "metadata": {},
   "outputs": [
    {
     "name": "stdout",
     "output_type": "stream",
     "text": [
      "Enter two integers, and i will tell you the relationships they satisfy\n",
      "21 is equal to 21\n",
      "21  is less than or equal to 21\n",
      "21 is greater than or equal to  21\n"
     ]
    }
   ],
   "source": [
    "print ('Enter two integers, and i will tell you',\n",
    "       'the relationships they satisfy')\n",
    "       \n",
    "number1 = int(input('Enter first number: '))\n",
    "number2 = int(input('Enter Second Number :'))\n",
    "\n",
    "if number1 == number2 :\n",
    "    print(number1, 'is equal to', number2)\n",
    "if number1 != number2 :\n",
    "    print (number1,'is not equal to',number2) \n",
    "if number1 < number2 :\n",
    "    print(number1,'is less then ',number2) \n",
    "if number1 > number2 :\n",
    "    print(number1,'is greater then',number2)\n",
    "if number1 <=number2 :\n",
    "    print(number1,' is less than or equal to',number2)\n",
    "if number1 >= number2 :\n",
    "    print(number1, 'is greater than or equal to ',number2)        \n",
    "\n",
    "\n"
   ]
  },
  {
   "cell_type": "code",
   "execution_count": null,
   "metadata": {},
   "outputs": [],
   "source": []
  },
  {
   "cell_type": "code",
   "execution_count": null,
   "metadata": {},
   "outputs": [],
   "source": []
  },
  {
   "cell_type": "code",
   "execution_count": null,
   "metadata": {},
   "outputs": [],
   "source": []
  },
  {
   "cell_type": "code",
   "execution_count": null,
   "metadata": {},
   "outputs": [],
   "source": []
  }
 ],
 "metadata": {
  "interpreter": {
   "hash": "aee8b7b246df8f9039afb4144a1f6fd8d2ca17a180786b69acc140d282b71a49"
  },
  "kernelspec": {
   "display_name": "Python 3.10.7 64-bit",
   "language": "python",
   "name": "python3"
  },
  "language_info": {
   "codemirror_mode": {
    "name": "ipython",
    "version": 3
   },
   "file_extension": ".py",
   "mimetype": "text/x-python",
   "name": "python",
   "nbconvert_exporter": "python",
   "pygments_lexer": "ipython3",
   "version": "3.10.7"
  },
  "orig_nbformat": 4
 },
 "nbformat": 4,
 "nbformat_minor": 2
}
