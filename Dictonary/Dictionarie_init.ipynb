{
 "cells": [
  {
   "cell_type": "markdown",
   "metadata": {},
   "source": [
    "#### DICTIONARIES\n",
    "A dictionary associates keys with values. Each key maps to a specific value. The following table contains examples of dictionaries with their keys, key types, values and value types:"
   ]
  },
  {
   "cell_type": "code",
   "execution_count": 4,
   "metadata": {},
   "outputs": [
    {
     "data": {
      "text/plain": [
       "{'name': 'Mausm', 'dep': 'CSE', 'Age': 24}"
      ]
     },
     "execution_count": 4,
     "metadata": {},
     "output_type": "execute_result"
    }
   ],
   "source": [
    "my_dictionary = {\n",
    "    'name' : \"Mausm\",\n",
    "    'dep'  : \"CSE\",\n",
    "    'Age'  : 24\n",
    "}\n",
    "    \n",
    "\n",
    "my_dictionary    "
   ]
  },
  {
   "cell_type": "markdown",
   "metadata": {},
   "source": [
    "#### Iterating through a Dictionary\n",
    "The following dictionary maps month­name strings to int values representing the numbers of days in the corresponding month. Note that multiple keys can have the same value:"
   ]
  },
  {
   "cell_type": "code",
   "execution_count": 5,
   "metadata": {},
   "outputs": [
    {
     "data": {
      "text/plain": [
       "{'January': 31, 'February': 28, 'March': 31}"
      ]
     },
     "execution_count": 5,
     "metadata": {},
     "output_type": "execute_result"
    }
   ],
   "source": [
    "day_per_month = {'January': 31, 'February':28, 'March': 31}\n",
    "day_per_month"
   ]
  },
  {
   "cell_type": "markdown",
   "metadata": {},
   "source": [
    "#### Dictionary Views"
   ]
  },
  {
   "cell_type": "code",
   "execution_count": 9,
   "metadata": {},
   "outputs": [
    {
     "name": "stdout",
     "output_type": "stream",
     "text": [
      "January February March "
     ]
    }
   ],
   "source": [
    "for month_name in day_per_month.keys():\n",
    "    print(month_name, end=\" \")"
   ]
  },
  {
   "cell_type": "code",
   "execution_count": 11,
   "metadata": {},
   "outputs": [
    {
     "name": "stdout",
     "output_type": "stream",
     "text": [
      "31 28 31 "
     ]
    }
   ],
   "source": [
    "for month_number in day_per_month.values():\n",
    "    print(month_number, end=\" \")"
   ]
  },
  {
   "cell_type": "markdown",
   "metadata": {},
   "source": [
    "#### Removing a Key–Value Pair\n",
    "You can delete a key–value pair from a dictionary with the del statement:"
   ]
  },
  {
   "cell_type": "code",
   "execution_count": 6,
   "metadata": {},
   "outputs": [],
   "source": [
    "roman_numerals = {'I':1, 'II':2,'III':3, 'V':5,'X':10, 'L':50}"
   ]
  },
  {
   "cell_type": "code",
   "execution_count": 7,
   "metadata": {},
   "outputs": [
    {
     "data": {
      "text/plain": [
       "{'I': 1, 'II': 2, 'V': 5, 'X': 10, 'L': 50}"
      ]
     },
     "execution_count": 7,
     "metadata": {},
     "output_type": "execute_result"
    }
   ],
   "source": [
    "del roman_numerals['III']\n",
    "\n",
    "roman_numerals"
   ]
  },
  {
   "cell_type": "code",
   "execution_count": 8,
   "metadata": {},
   "outputs": [
    {
     "data": {
      "text/plain": [
       "{'I': 1, 'II': 2, 'V': 5, 'L': 50}"
      ]
     },
     "execution_count": 8,
     "metadata": {},
     "output_type": "execute_result"
    }
   ],
   "source": [
    "roman_numerals.pop('X')\n",
    "\n",
    "roman_numerals"
   ]
  },
  {
   "cell_type": "markdown",
   "metadata": {},
   "source": [
    "#### comparison operators == and != "
   ]
  },
  {
   "cell_type": "code",
   "execution_count": 4,
   "metadata": {},
   "outputs": [
    {
     "name": "stdout",
     "output_type": "stream",
     "text": [
      "Country 1 and 2 are Equal False\n",
      "Country 2 and 3 are Equal False\n",
      "Country 1 and 3 are Equal True\n"
     ]
    }
   ],
   "source": [
    "country_cap = {\n",
    "    'Belgium' : 'Brussels',\n",
    "    'Haiti'  : 'Port-au-Prince'\n",
    "}\n",
    "\n",
    "country_cap2 ={\n",
    "    'Nepal':'Kathmandu',\n",
    "    'Uruguay':'Montevideo'\n",
    "}\n",
    "\n",
    "country_cap3 = {\n",
    "    'Haiti' : 'Port-au-Prince',\n",
    "    'Belgium' : 'Brussels',\n",
    "\n",
    "}\n",
    "\n",
    "\n",
    "print(\"Country 1 and 2 are Equal\", country_cap ==country_cap2)\n",
    "\n",
    "print(\"Country 2 and 3 are Equal\", country_cap2 ==country_cap3)\n",
    "\n",
    "print(\"Country 1 and 3 are Equal\", country_cap ==country_cap3)\n"
   ]
  },
  {
   "cell_type": "markdown",
   "metadata": {},
   "source": [
    "##### Dictionary of Student Grades\n",
    "\n",
    "The following script represents an instructor’s grade book as a dictionary that maps each student’s name (a string) to a list of integers containing that student’s grades on three exams. In each iteration of the loop that displays the data (lines 13–17), we unpack a key–value pair into the variables name and grades containing one student’s name and the corresponding list of three grades. Line 14 uses built­in function sum to total a given student’s grades, then line 15 calculates and displays that student’s average by dividing total by the number of grades for that student (len(grades)). Lines 16– 17 keep track of the total of all four students’ grades and the number of grades for all the students, respectively. Line 19 prints the class average of all the students’ grades on all the exams."
   ]
  },
  {
   "cell_type": "code",
   "execution_count": 6,
   "metadata": {},
   "outputs": [
    {
     "name": "stdout",
     "output_type": "stream",
     "text": [
      "Average for Susan is 92.33\n",
      "Average for Eduardo is 85.67\n",
      "Average for Azizi is 87.33\n",
      "Average for Pantipa is 93.33\n",
      "Class's average is: 89.67\n"
     ]
    }
   ],
   "source": [
    "grade_book = {\n",
    "    'Susan':[92,85,100],\n",
    "    'Eduardo':[83,95,79],\n",
    "    'Azizi':[91,89,82],\n",
    "    'Pantipa':[97,91,92]\n",
    "}\n",
    "\n",
    "\n",
    "all_grade_total = 0\n",
    "all_grade_count = 0\n",
    "\n",
    "for name, grades in grade_book.items():\n",
    "    total = sum(grades)\n",
    "    print(f'Average for {name} is {total/len(grades):.2f}')\n",
    "    all_grade_count  +=len(grades)\n",
    "    all_grade_total  +=total\n",
    "\n",
    "print(f\"Class's average is: {all_grade_total / all_grade_count:.2f}\")    "
   ]
  },
  {
   "cell_type": "markdown",
   "metadata": {},
   "source": [
    "#### Dictionary Method update"
   ]
  },
  {
   "cell_type": "code",
   "execution_count": 7,
   "metadata": {},
   "outputs": [],
   "source": [
    "grade_book.update({'Masum':[87,98,97]})"
   ]
  },
  {
   "cell_type": "code",
   "execution_count": 8,
   "metadata": {},
   "outputs": [
    {
     "data": {
      "text/plain": [
       "{'Susan': [92, 85, 100],\n",
       " 'Eduardo': [83, 95, 79],\n",
       " 'Azizi': [91, 89, 82],\n",
       " 'Pantipa': [97, 91, 92],\n",
       " 'Masum': [87, 98, 97]}"
      ]
     },
     "execution_count": 8,
     "metadata": {},
     "output_type": "execute_result"
    }
   ],
   "source": [
    "grade_book"
   ]
  },
  {
   "cell_type": "code",
   "execution_count": null,
   "metadata": {},
   "outputs": [],
   "source": []
  }
 ],
 "metadata": {
  "interpreter": {
   "hash": "77464dfbb7b677efd518060468012d83bcd4ce6bf8851ba7699eefd420b20839"
  },
  "kernelspec": {
   "display_name": "Python 3.11.5 ('base')",
   "language": "python",
   "name": "python3"
  },
  "language_info": {
   "codemirror_mode": {
    "name": "ipython",
    "version": 3
   },
   "file_extension": ".py",
   "mimetype": "text/x-python",
   "name": "python",
   "nbconvert_exporter": "python",
   "pygments_lexer": "ipython3",
   "version": "3.11.5"
  },
  "orig_nbformat": 4
 },
 "nbformat": 4,
 "nbformat_minor": 2
}
